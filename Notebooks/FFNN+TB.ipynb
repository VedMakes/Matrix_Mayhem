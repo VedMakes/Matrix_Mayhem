{
 "cells": [
  {
   "cell_type": "code",
   "execution_count": null,
   "id": "bfc57b06-ca6e-4631-ace5-5ef532a83b62",
   "metadata": {},
   "outputs": [],
   "source": [
    "import numpy as np\n",
    "import pandas as pd\n",
    "import tiktoken as tk\n",
    "import torch\n",
    "import torch.nn as nn\n",
    "import torch.nn.functional as F"
   ]
  },
  {
   "cell_type": "markdown",
   "id": "b37788e9-939e-4b26-bffe-dbfc6e8c59c7",
   "metadata": {},
   "source": [
    "### FeedForward Block\n",
    "\n",
    "- **Input:** Tensor of shape `(B, T, d_model)`  \n",
    "  - `B` = batch size  \n",
    "  - `T` = sequence length  \n",
    "  - `d_model` = embedding / hidden dimension of the model  \n",
    "\n",
    "- **Operation:**\n",
    "  1. Linear projection from `d_model` → `d_ff` (`fc1`)  \n",
    "  2. Nonlinearity using GELU  \n",
    "  3. Linear projection back from `d_ff` → `d_model` (`fc2`)  \n",
    "  4. Dropout applied for regularization  \n",
    "\n",
    "- **Output:** Tensor of same shape `(B, T, d_model)`  \n",
    "  - Residuals are applied outside this block, so output can be directly added to input in TransformerBlock  \n"
   ]
  },
  {
   "cell_type": "code",
   "execution_count": null,
   "id": "bc81c03c-7911-4324-bdfa-30c7dafdfa8d",
   "metadata": {},
   "outputs": [],
   "source": [
    "class FeedForward(nn.Module):\n",
    "    def __init__(self, d_model, d_ff, dropout=0.1):\n",
    "        super().__init__()\n",
    "        self.fc1 = nn.Linear(d_model, d_ff)\n",
    "        self.fc2 = nn.Linear(d_ff, d_model)\n",
    "        self.dropout = nn.Dropout(dropout)\n",
    "\n",
    "    \n",
    "    def forward(self, x):\n",
    "        x = self.fc1(x)         # (B, T, d_ff, shifted to the NN size)\n",
    "        x = F.gelu(x)           # nonlinearity (GELU is used in GPTs as far as i know)\n",
    "        x = self.fc2(x)         # (B, T, d_model, back to original size)\n",
    "        x = self.dropout(x)     # dropout for regularization, VERY IMPORTANT !!!1!1!1\n",
    "        return x"
   ]
  },
  {
   "cell_type": "markdown",
   "id": "4e9391b6-1cb8-4a2c-aa37-691f8bcb3ba5",
   "metadata": {},
   "source": [
    "### TransformerBlock\n",
    "\n",
    "- **Input:** Tensor of shape `(B, T, d_model)`  \n",
    "  - `B` = batch size  \n",
    "  - `T` = sequence length  \n",
    "  - `d_model` = embedding / hidden dimension  \n",
    "\n",
    "- **Components:**\n",
    "  1. **LayerNorm (`ln1`)** before Multi-Head Attention  \n",
    "  2. **Multi-Head Attention (`mha`)**  \n",
    "     - Takes normalized input  \n",
    "     - Output has shape `(B, T, d_model)`  \n",
    "     - Residual connection added: `x = x + mha(...)`  \n",
    "  3. **LayerNorm (`ln2`)** before FeedForward  \n",
    "  4. **FeedForward (`ffn`)**  \n",
    "     - Output shape `(B, T, d_model)`  \n",
    "     - Residual connection applied  \n",
    "\n",
    "- **Output:** Tensor of shape `(B, T, d_model)`  \n",
    "  - Can be stacked in `nn.ModuleList` to build a full Transformer  \n"
   ]
  },
  {
   "cell_type": "code",
   "execution_count": null,
   "id": "2b0cbe77-ad35-4aaa-b925-6d48ae3f71aa",
   "metadata": {},
   "outputs": [],
   "source": [
    "class TransformerBlock(nn.Module):\n",
    "    def __init__(self, d_model, num_heads, d_ff):\n",
    "        super().__init__()\n",
    "        \n",
    "        self.ln1 = nn.LayerNorm(d_model)\n",
    "        \n",
    "        self.ln2 = nn.LayerNorm(d_model)\n",
    "        \n",
    "        self.mha = MultiHeadAttentionNew(d_model, num_heads)\n",
    "        \n",
    "        self.ffn = FeedForward(d_model, d_ff)\n",
    "\n",
    "    def forward(self, x, mask=None):\n",
    "        \n",
    "        # Multi-head attention with residuals attached\n",
    "        x = x + self.mha(self.ln1(x), mask=mask)\n",
    "\n",
    "        ## Feed-forward with residual\n",
    "        x = x + self.ffn(self.ln2(x))\n",
    "        \n",
    "        return x"
   ]
  }
 ],
 "metadata": {
  "kernelspec": {
   "display_name": "Python 3 (ipykernel)",
   "language": "python",
   "name": "python3"
  },
  "language_info": {
   "codemirror_mode": {
    "name": "ipython",
    "version": 3
   },
   "file_extension": ".py",
   "mimetype": "text/x-python",
   "name": "python",
   "nbconvert_exporter": "python",
   "pygments_lexer": "ipython3",
   "version": "3.12.7"
  }
 },
 "nbformat": 4,
 "nbformat_minor": 5
}
