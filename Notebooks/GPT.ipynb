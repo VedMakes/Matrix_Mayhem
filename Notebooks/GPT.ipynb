{
 "cells": [
  {
   "cell_type": "code",
   "execution_count": null,
   "id": "7e63b400-6c14-4059-88de-a00a6b292002",
   "metadata": {},
   "outputs": [],
   "source": [
    "import numpy as np\n",
    "import pandas as pd\n",
    "import tiktoken as tk\n",
    "import torch\n",
    "import torch.nn as nn\n",
    "import torch.nn.functional as F\n",
    "import torch.optim as optim"
   ]
  },
  {
   "cell_type": "markdown",
   "id": "63550ba3-24da-440b-8ab4-1f596be681b3",
   "metadata": {},
   "source": [
    "### Transformer\n",
    "\n",
    "- **Input:** Tensor of shape `(B, T)`  \n",
    "  - `B` = batch size  \n",
    "  - `T` = sequence length  \n",
    "  - Each element is a token ID  \n",
    "\n",
    "- **Components:**\n",
    "  1. **EmbeddingLayer (`embed`)**  \n",
    "     - Converts token IDs into embeddings `(B, T, d_model)`  \n",
    "     - Adds positional encodings  \n",
    "  2. **Stack of `TransformerBlock`s (`blocks`)**  \n",
    "     - Each block outputs `(B, T, d_model)`  \n",
    "     - Includes Multi-Head Attention + FeedForward with residuals  \n",
    "  3. **Final LayerNorm (`ln_final`)**  \n",
    "     - Normalizes hidden states across `d_model` dimension  \n",
    "  4. **Output Linear Layer (`head`)**  \n",
    "     - Maps embeddings to vocabulary logits `(B, T, vocab_size)`  \n",
    "\n",
    "- **Output:** Tensor of shape `(B, T, vocab_size)`  \n",
    "  - Can be used for next-token prediction or language modeling  \n"
   ]
  },
  {
   "cell_type": "code",
   "execution_count": null,
   "id": "9a295d94-57f0-412f-b444-91e53b74fd27",
   "metadata": {},
   "outputs": [],
   "source": [
    "class Transformer(nn.Module):\n",
    "    def __init__(self, vocab_size, d_model=256, num_heads=8, d_ff=1024, num_layers=7):\n",
    "        super().__init__()\n",
    "        \n",
    "        self.embed = EmbeddingLayer(vocab_size, d_model, max_len=512)\n",
    "        \n",
    "        self.blocks = nn.ModuleList([\n",
    "            TransformerBlock(d_model, num_heads, d_ff)\n",
    "            for _ in range(num_layers)\n",
    "        ])\n",
    "        \n",
    "        self.ln_final = nn.LayerNorm(d_model)\n",
    "        \n",
    "        self.head = nn.Linear(d_model, vocab_size, bias=False)  # output logits\n",
    "\n",
    "    def forward(self, x, mask=None):\n",
    "        \n",
    "        x = self.embed(x)\n",
    "        \n",
    "        for block in self.blocks:\n",
    "            x = block(x, mask=mask)\n",
    "        \n",
    "        x = self.ln_final(x)\n",
    "        \n",
    "        return self.head(x)\n"
   ]
  }
 ],
 "metadata": {
  "kernelspec": {
   "display_name": "Python 3 (ipykernel)",
   "language": "python",
   "name": "python3"
  },
  "language_info": {
   "codemirror_mode": {
    "name": "ipython",
    "version": 3
   },
   "file_extension": ".py",
   "mimetype": "text/x-python",
   "name": "python",
   "nbconvert_exporter": "python",
   "pygments_lexer": "ipython3",
   "version": "3.12.7"
  }
 },
 "nbformat": 4,
 "nbformat_minor": 5
}
