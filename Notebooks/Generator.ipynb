{
 "cells": [
  {
   "cell_type": "code",
   "execution_count": null,
   "id": "af71fb3e-98d2-4859-81f4-3c760ccf0324",
   "metadata": {},
   "outputs": [],
   "source": [
    "import numpy as np\n",
    "import pandas as pd\n",
    "import tiktoken as tk\n",
    "import torch\n",
    "import torch.nn as nn\n",
    "import torch.nn.functional as F\n",
    "import torch.optim as optim"
   ]
  },
  {
   "cell_type": "markdown",
   "id": "6f553783-259a-428a-9990-593383927490",
   "metadata": {},
   "source": [
    "### Training Loop\n",
    "\n",
    "- **Setup:**  \n",
    "  - Instantiate model: `model = Transformer(vocab_size, d_model, num_heads, d_ff, num_layers).to(device)`  \n",
    "  - Loss function: `nn.CrossEntropyLoss()` (expects logits `[B, T, V]` and targets `[B, T]`)  \n",
    "  - Optimizer: `AdamW`  \n",
    "\n",
    "- **Batching:**  \n",
    "  - Use `batch_loader(raw_dataset, T=seq_len, B=batch_size, device=device)` to get `(x_batch, y_batch)`  \n",
    "  - `x_batch` and `y_batch` shape: `[B, T]`  \n",
    "\n",
    "- **Forward & Backward:**  \n",
    "  - `logits = model(x_batch)` → shape `[B, T, vocab_size]`  \n",
    "  - Reshape for loss: `logits.view(-1, vocab_size)` vs `y_batch.view(-1)`  \n",
    "  - Compute loss and backpropagate  \n",
    "  - Apply gradient clipping: `clip_grad_norm_(model.parameters(), 1.0)`  \n",
    "  - `optimizer.step()` to update weights  \n",
    "\n",
    "- **Epoch loop:**  \n",
    "  - Track total loss per epoch  \n",
    "  - Optional: sample generated text with `generate(model, start_text=\"The Emperor\")` to monitor training flavor  \n"
   ]
  },
  {
   "cell_type": "code",
   "execution_count": null,
   "id": "7c024aef-86ac-4125-a559-bc904a867255",
   "metadata": {},
   "outputs": [],
   "source": [
    "model = Transformer(vocab_size, d_model, num_heads, d_ff, num_layers).to(device)\n",
    "\n",
    "criterion = nn.CrossEntropyLoss()  ### expects logits [B, T, V] and target [B, T]\n",
    "optimizer = optim.AdamW(model.parameters(), lr=lr)\n",
    "\n",
    "for epoch in range(epochs):\n",
    "    model.train()\n",
    "    total_loss = 0.0\n",
    "\n",
    "    # raw_datase given\n",
    "    x_batch, y_batch = batch_loader(raw_dataset, T=seq_len, B=batch_size, device=device)\n",
    "    \n",
    "    optimizer.zero_grad()\n",
    "    logits = model(x_batch)  # [B, T, V]\n",
    "    \n",
    "    # reshape for CrossEntropy: [B*T, V] vs [B*T]\n",
    "    loss = criterion(logits.view(-1, vocab_size), y_batch.view(-1))\n",
    "    loss.backward()\n",
    "    torch.nn.utils.clip_grad_norm_(model.parameters(), 1.0)  # gradient clipping\n",
    "    \n",
    "    optimizer.step()\n",
    "    \n",
    "    total_loss += loss.item()\n",
    "    \n",
    "    print(f\"Epoch {epoch+1}/{epochs} | Loss: {total_loss:.4f}\")\n",
    "    \n",
    "    # Optional: sample a few tokens every epoch to check flavor\n",
    "    sample_text = generate(model, start_text=\"The Emperor\")\n",
    "    print(\"Sample:\", sample_text[:200], \"...\\n\")"
   ]
  },
  {
   "cell_type": "markdown",
   "id": "995a1b80-43a0-4dd3-9a57-87a04d9edc40",
   "metadata": {},
   "source": [
    "### Text Generation (`generate` function)\n",
    "\n",
    "- **Purpose:** Generate text autoregressively from a starting string using the trained Transformer.  \n",
    "- **Inputs:**  \n",
    "  - `model`: trained Transformer model  \n",
    "  - `start_text`: string to seed generation  \n",
    "  - `tokenizer`: encoding/decoding utility (`encoder`)  \n",
    "  - `max_tokens`: max number of tokens to generate  \n",
    "  - `temperature`: controls randomness; higher → more diverse output  \n",
    "  - `device`: `\"cuda\"` or `\"cpu\"`  \n",
    "\n",
    "- **Process:**  \n",
    "  1. Encode `start_text` to token IDs.  \n",
    "  2. Loop up to `max_tokens`:  \n",
    "     - Forward pass through model to get logits  \n",
    "     - Take logits of last token and scale by `temperature`  \n",
    "     - Apply softmax → probabilities  \n",
    "     - Sample next token with `multinomial`  \n",
    "     - Append token to sequence  \n",
    "     - Stop if `<|endoftext|>` token is generated  \n",
    "\n",
    "- **Output:**  \n",
    "  - Decoded string containing generated text.  \n",
    "  - Shape internally: `[1, seq_len]` → converted back to string.\n"
   ]
  },
  {
   "cell_type": "code",
   "execution_count": null,
   "id": "b2c0dc2e-4a3e-4368-ad58-7dde2a6ed037",
   "metadata": {},
   "outputs": [],
   "source": [
    "@torch.no_grad()\n",
    "def generate(model, start_text, tokenizer = encoder, max_tokens=50, temperature=1.0, device=\"cuda\"):\n",
    "    model.eval()\n",
    "    \n",
    "    # Encode starting text\n",
    "    x = torch.tensor([tokenizer.encode(start_text)], dtype=torch.long, device=device)  # [1, seq_len]\n",
    "    \n",
    "    for _ in range(max_tokens):\n",
    "        logits = model(x)             \n",
    "        logits = logits[:, -1, :] / temperature   # take last token only\n",
    "\n",
    "        probs = torch.softmax(logits, dim=-1)    # convert to probabilities\n",
    "        next_token = torch.multinomial(probs, num_samples=1)  # sample next token\n",
    "\n",
    "        x = torch.cat([x, next_token], dim=1)  # append to sequence\n",
    "\n",
    "        # Stop if we hit <|endoftext|>\n",
    "        if next_token.item() == tokenizer.eot_token:\n",
    "            break\n",
    "\n",
    "    # Decode back to text\n",
    "    return tokenizer.decode(x[0].tolist())"
   ]
  }
 ],
 "metadata": {
  "kernelspec": {
   "display_name": "Python 3 (ipykernel)",
   "language": "python",
   "name": "python3"
  },
  "language_info": {
   "codemirror_mode": {
    "name": "ipython",
    "version": 3
   },
   "file_extension": ".py",
   "mimetype": "text/x-python",
   "name": "python",
   "nbconvert_exporter": "python",
   "pygments_lexer": "ipython3",
   "version": "3.12.7"
  }
 },
 "nbformat": 4,
 "nbformat_minor": 5
}
