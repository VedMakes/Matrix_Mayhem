{
 "cells": [
  {
   "cell_type": "code",
   "execution_count": null,
   "id": "f88e30ab-3e69-468e-a309-062a62be0592",
   "metadata": {},
   "outputs": [],
   "source": [
    "import numpy as np\n",
    "import pandas as pd\n",
    "import tiktoken as tk\n",
    "import torch\n",
    "import torch.nn as nn\n",
    "import torch.nn.functional as F"
   ]
  },
  {
   "cell_type": "markdown",
   "id": "55fa2463-3891-499a-8dd8-74a5068fd652",
   "metadata": {},
   "source": [
    "## Input-\n",
    "- for Embedding -> X in shape (B, T)\n",
    "- for SingleHeadAttention -> Embedded X in shape (B, T, d_model)\n",
    "\n",
    "## Output- \n",
    "- Embedding -> token + position embedded x matrix with dimensions (B,T,d_model)\n",
    "- SingleHeadAttention -> \"Out\" + \"attn\", Out is the result of attention mechanism, the matrix to be used in the model, \"Attn\" is softmax scores of each token\n",
    "\n",
    "Master notebook for more details"
   ]
  },
  {
   "cell_type": "code",
   "execution_count": null,
   "id": "bd70cc8d-1875-4ec4-8a66-2f413ae1cb02",
   "metadata": {},
   "outputs": [],
   "source": [
    "class EmbeddingLayer(nn.Module):\n",
    "    def __init__(self, vocab_size, d_model, max_len=2048):\n",
    "        super().__init__()\n",
    "        self.tok_embed = nn.Embedding(vocab_size, d_model)   # token embedding\n",
    "        self.pos_embed = nn.Embedding(max_len, d_model)      # position embedding\n",
    "\n",
    "    def forward(self, x):\n",
    "        B, T = x.shape\n",
    "        # make position IDs: [0, 1, ..., T-1]\n",
    "        pos = torch.arange(0, T, device=x.device).unsqueeze(0)  # [1, T]\n",
    "        tok = self.tok_embed(x)       # [B, T, d_model]\n",
    "        pos = self.pos_embed(pos)     # [1, T, d_model]\n",
    "        return tok + pos              # [B, T, d_model]"
   ]
  },
  {
   "cell_type": "code",
   "execution_count": null,
   "id": "91850303-7aba-4657-bd1c-f74a41003f2d",
   "metadata": {},
   "outputs": [],
   "source": [
    "class SingleHeadAttention(nn.Module):\n",
    "    def __init__(self, d_model, d_k):\n",
    "        super().__init__()\n",
    "        \n",
    "        \n",
    "        # Linear projections for Q, K, V\n",
    "        self.W_q = nn.Linear(d_model, d_k, bias=False)\n",
    "        self.W_k = nn.Linear(d_model, d_k, bias=False)\n",
    "        self.W_v = nn.Linear(d_model, d_k, bias=False)\n",
    "        \n",
    "    \n",
    "    \n",
    "    def forward(self, x):\n",
    "        # x shape: (B, T, d_model)\n",
    "        Q = self.W_q(x)  \n",
    "        K = self.W_k(x)  \n",
    "        V = self.W_v(x) \n",
    "        \n",
    "        \n",
    "        # Attention scores: QK^T / sqrt(d_k) jus like the goddamn paper it was hell to code aaaaaaaaaaaaa\n",
    "        scores = torch.matmul(Q, K.transpose(-2, -1)) / (Q.size(-1) ** 0.5)\n",
    "\n",
    "        \n",
    "        # Softmax over last dim\n",
    "        attn = F.softmax(scores, dim=-1)\n",
    "        \n",
    "        ##Weighted sum with V\n",
    "        out = torch.matmul(attn, V)  # (batch_size, seq_len, d_k)\n",
    "        return out, attn\n"
   ]
  },
  {
   "cell_type": "code",
   "execution_count": 1,
   "id": "e1ed0529-d264-4e7a-9608-c7d6124a976a",
   "metadata": {},
   "outputs": [
    {
     "ename": "NameError",
     "evalue": "name 'EmbeddingLayer' is not defined",
     "output_type": "error",
     "traceback": [
      "\u001b[1;31m---------------------------------------------------------------------------\u001b[0m",
      "\u001b[1;31mNameError\u001b[0m                                 Traceback (most recent call last)",
      "Cell \u001b[1;32mIn[1], line 1\u001b[0m\n\u001b[1;32m----> 1\u001b[0m embed \u001b[38;5;241m=\u001b[39m EmbeddingLayer(vocab_size, d_model, max_len)\n\u001b[0;32m      2\u001b[0m attn \u001b[38;5;241m=\u001b[39m SingleHeadAttention(d_model, head_dim)\n\u001b[0;32m      5\u001b[0m emb \u001b[38;5;241m=\u001b[39m embed(x)   \u001b[38;5;66;03m# [B, T, d_model]\u001b[39;00m\n",
      "\u001b[1;31mNameError\u001b[0m: name 'EmbeddingLayer' is not defined"
     ]
    }
   ],
   "source": [
    "embed = EmbeddingLayer(vocab_size, d_model, max_len)\n",
    "attn = SingleHeadAttention(d_model, head_dim)\n",
    "\n",
    "\n",
    "emb = embed(x)   # [B, T, d_model]\n",
    "\n",
    "out = attn(emb)  # [B, T, d_model]\n",
    "\n",
    "print(emb)\n",
    "print(out)"
   ]
  },
  {
   "cell_type": "code",
   "execution_count": null,
   "id": "65f5f5f8-f14e-456b-bfb0-ee81abb669b8",
   "metadata": {},
   "outputs": [],
   "source": []
  }
 ],
 "metadata": {
  "kernelspec": {
   "display_name": "Python 3 (ipykernel)",
   "language": "python",
   "name": "python3"
  },
  "language_info": {
   "codemirror_mode": {
    "name": "ipython",
    "version": 3
   },
   "file_extension": ".py",
   "mimetype": "text/x-python",
   "name": "python",
   "nbconvert_exporter": "python",
   "pygments_lexer": "ipython3",
   "version": "3.12.7"
  }
 },
 "nbformat": 4,
 "nbformat_minor": 5
}
